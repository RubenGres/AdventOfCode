{
 "cells": [
  {
   "cell_type": "code",
   "execution_count": 35,
   "metadata": {},
   "outputs": [],
   "source": [
    "with open(\"inputs/day_4.txt\") as f:\n",
    "    values = f.read().strip()\n",
    "\n",
    "inputs = values.split('\\n')"
   ]
  },
  {
   "cell_type": "code",
   "execution_count": 36,
   "metadata": {},
   "outputs": [],
   "source": [
    "def parse_card(card):\n",
    "    card_number, numbers = card.split(': ')\n",
    "    card_number = card_number.split()[-1]\n",
    "    winning_numbers, drawn_numbers = numbers.split(' | ')\n",
    "    winning_numbers = winning_numbers.split()\n",
    "    drawn_numbers = drawn_numbers.split()\n",
    "    return int(card_number), winning_numbers, drawn_numbers"
   ]
  },
  {
   "cell_type": "code",
   "execution_count": 37,
   "metadata": {},
   "outputs": [],
   "source": [
    "cards = {}\n",
    "\n",
    "for card_line in inputs:\n",
    "    card_number, winning_numbers, drawn_numbers = parse_card(card_line)\n",
    "    cards[card_number] = {\"winning\": winning_numbers, \"drawn\": drawn_numbers}"
   ]
  },
  {
   "cell_type": "code",
   "execution_count": 38,
   "metadata": {},
   "outputs": [],
   "source": [
    "winning_numbers = []\n",
    "\n",
    "for card_key in cards:\n",
    "    card = cards[card_key]\n",
    "    card_winning_numbers = []\n",
    "    for drawn in card['drawn']: \n",
    "        if drawn in card['winning']:\n",
    "            card_winning_numbers.append(drawn)\n",
    "    \n",
    "    winning_numbers.append(card_winning_numbers)"
   ]
  },
  {
   "cell_type": "code",
   "execution_count": 39,
   "metadata": {},
   "outputs": [
    {
     "data": {
      "text/plain": [
       "25174"
      ]
     },
     "execution_count": 39,
     "metadata": {},
     "output_type": "execute_result"
    }
   ],
   "source": [
    "card_values = []\n",
    "for card in winning_numbers:\n",
    "    if len(card) >= 1:\n",
    "        val = 2**(len(card)-1)\n",
    "    else:\n",
    "        val = 0\n",
    "    \n",
    "    card_values.append(val)\n",
    "\n",
    "sum(card_values)"
   ]
  },
  {
   "cell_type": "markdown",
   "metadata": {},
   "source": [
    "# Day two"
   ]
  },
  {
   "cell_type": "code",
   "execution_count": 40,
   "metadata": {},
   "outputs": [],
   "source": [
    "for card in cards:\n",
    "    cards[card]['number'] = int(card)"
   ]
  },
  {
   "cell_type": "code",
   "execution_count": 41,
   "metadata": {},
   "outputs": [],
   "source": [
    "def resulting_copies(card):\n",
    "    score = 0\n",
    "    for drawn in card['drawn']: \n",
    "        if drawn in card['winning']:\n",
    "            score += 1\n",
    "    \n",
    "    if score > 0:\n",
    "        return list(range(card['number']+1, card['number']+score+1))\n",
    "    else:\n",
    "        return []"
   ]
  },
  {
   "cell_type": "code",
   "execution_count": 42,
   "metadata": {},
   "outputs": [],
   "source": [
    "numbers_of_cards = {k: 1 for k in cards}\n",
    "\n",
    "hand = cards.values()\n",
    "\n",
    "while len(hand) > 0:\n",
    "    new_hand = []\n",
    "    for card in hand:\n",
    "        card_copies_num = resulting_copies(card)\n",
    "        for copy_num in card_copies_num:\n",
    "            new_hand.append(cards[copy_num])\n",
    "        \n",
    "        #print(\"len(hand):\", len(new_hand), card['number'], card_copies_num)\n",
    "        \n",
    "    for card in new_hand:\n",
    "        numbers_of_cards[card['number']] += 1\n",
    "\n",
    "    hand = new_hand"
   ]
  },
  {
   "cell_type": "code",
   "execution_count": 44,
   "metadata": {},
   "outputs": [
    {
     "data": {
      "text/plain": [
       "6420979"
      ]
     },
     "execution_count": 44,
     "metadata": {},
     "output_type": "execute_result"
    }
   ],
   "source": [
    "sum(numbers_of_cards.values())"
   ]
  }
 ],
 "metadata": {
  "kernelspec": {
   "display_name": "Python 3",
   "language": "python",
   "name": "python3"
  },
  "language_info": {
   "codemirror_mode": {
    "name": "ipython",
    "version": 3
   },
   "file_extension": ".py",
   "mimetype": "text/x-python",
   "name": "python",
   "nbconvert_exporter": "python",
   "pygments_lexer": "ipython3",
   "version": "3.10.8"
  }
 },
 "nbformat": 4,
 "nbformat_minor": 2
}
