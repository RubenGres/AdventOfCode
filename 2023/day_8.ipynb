{
 "cells": [
  {
   "cell_type": "code",
   "execution_count": 13,
   "metadata": {},
   "outputs": [],
   "source": [
    "with open(\"inputs/day_8.txt\") as f:\n",
    "    values = f.read().strip()\n",
    "\n",
    "inputs = values.split('\\n')\n",
    "\n",
    "instructions = inputs[0]\n",
    "\n",
    "maps = {}\n",
    "for map in inputs[2:]:\n",
    "    key, value = map.split(' = ')\n",
    "    L = value.split(',')[0][1:]\n",
    "    R = value.split(',')[1][1:-1]\n",
    "    maps[key] = {'L': L, 'R': R}"
   ]
  },
  {
   "cell_type": "code",
   "execution_count": 14,
   "metadata": {},
   "outputs": [
    {
     "data": {
      "text/plain": [
       "[20093, 12169, 22357, 14999, 13301, 17263]"
      ]
     },
     "execution_count": 14,
     "metadata": {},
     "output_type": "execute_result"
    }
   ],
   "source": [
    "steps = 0\n",
    "\n",
    "current_maps = filter(lambda x: x[-1] == \"A\", list(maps.keys()))\n",
    "current_maps = list(current_maps)\n",
    "\n",
    "def all_endings(current_maps):\n",
    "    return all([map[-1] == \"Z\" for map in current_maps])\n",
    "\n",
    "n_steps = []\n",
    "ending_pos = []\n",
    "\n",
    "for starting_pos in current_maps:\n",
    "    current_map = starting_pos\n",
    "    steps = 0\n",
    "    while not current_map[-1] == 'Z':\n",
    "        instruction = instructions[steps % len(instructions)]\n",
    "        current_map = maps[current_map][instruction]\n",
    "        steps += 1\n",
    "\n",
    "    n_steps.append(steps)\n",
    "    ending_pos.append(current_map)\n",
    "\n",
    "n_steps"
   ]
  },
  {
   "cell_type": "code",
   "execution_count": 17,
   "metadata": {},
   "outputs": [
    {
     "data": {
      "text/plain": [
       "['DDZ', 'XDZ', 'ZZZ', 'SRZ', 'JVZ', 'THZ']"
      ]
     },
     "execution_count": 17,
     "metadata": {},
     "output_type": "execute_result"
    }
   ],
   "source": [
    "ending_pos"
   ]
  },
  {
   "cell_type": "code",
   "execution_count": 42,
   "metadata": {},
   "outputs": [
    {
     "name": "stdout",
     "output_type": "stream",
     "text": [
      "10371555451871\n"
     ]
    }
   ],
   "source": [
    "from math import gcd\n",
    "a = n_steps   #will work for an int array of any length\n",
    "lcm = 1\n",
    "for i in a:\n",
    "    lcm = lcm*i//gcd(lcm, i)\n",
    "print(lcm)"
   ]
  }
 ],
 "metadata": {
  "kernelspec": {
   "display_name": "Python 3",
   "language": "python",
   "name": "python3"
  },
  "language_info": {
   "codemirror_mode": {
    "name": "ipython",
    "version": 3
   },
   "file_extension": ".py",
   "mimetype": "text/x-python",
   "name": "python",
   "nbconvert_exporter": "python",
   "pygments_lexer": "ipython3",
   "version": "3.10.8"
  }
 },
 "nbformat": 4,
 "nbformat_minor": 2
}
