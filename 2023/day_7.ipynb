{
 "cells": [
  {
   "cell_type": "code",
   "execution_count": 1,
   "metadata": {},
   "outputs": [],
   "source": [
    "with open(\"inputs/day_7.txt\") as f:\n",
    "    values = f.read().strip()\n",
    "\n",
    "inputs = values.split('\\n')"
   ]
  },
  {
   "cell_type": "code",
   "execution_count": 17,
   "metadata": {},
   "outputs": [],
   "source": [
    "hands = [elem.split(\" \") for elem in inputs]\n",
    "hands = [{\"hand\": h[0], \"bid\": int(h[1])} for h in hands]"
   ]
  },
  {
   "cell_type": "code",
   "execution_count": 51,
   "metadata": {},
   "outputs": [],
   "source": [
    "card_order = [\"A\", \"K\", \"Q\", \"J\", \"T\", \"9\", \"8\", \"7\", \"6\", \"5\", \"4\", \"3\", \"2\"]\n",
    "\n",
    "def rank_hand(hand):\n",
    "    hand = list(hand)\n",
    "\n",
    "    samesies = []\n",
    "    for card in set(hand):\n",
    "        samesies.append(list(filter(lambda x: x == card, hand)))\n",
    "    \n",
    "    samesies_count = [len(e) for e in samesies]\n",
    "\n",
    "    # 5 of a kind\n",
    "    if len(samesies) == 1:\n",
    "        return 1\n",
    "    \n",
    "    # 4 of a kind\n",
    "    elif 4 in samesies_count:\n",
    "        return 2\n",
    "    \n",
    "    # full house\n",
    "    elif 3 in samesies_count and 2 in samesies_count:\n",
    "        return 3\n",
    "    \n",
    "    # 3 of a kind\n",
    "    elif 3 in samesies_count:\n",
    "        return 4\n",
    "    \n",
    "    # 2 pairs\n",
    "    elif 2 in samesies_count and samesies_count.count(2) == 2:\n",
    "        return 5\n",
    "    \n",
    "    # 1 pairs\n",
    "    elif 2 in samesies_count:\n",
    "        return 6\n",
    "    \n",
    "    # one card\n",
    "    else:\n",
    "        return 7"
   ]
  },
  {
   "cell_type": "code",
   "execution_count": 19,
   "metadata": {},
   "outputs": [],
   "source": [
    "def sorting_score(hand):\n",
    "    total_score_hand = 0\n",
    "    for i, card in enumerate(list(hand)):\n",
    "        total_score_hand += 100**(len(hand) - i) * card_order.index(card)\n",
    "\n",
    "    return 10000000000000*rank_hand(hand) + total_score_hand\n",
    "\n",
    "for i in range(len(hands)):\n",
    "    hands[i][\"sorting_score\"] = sorting_score(hands[i]['hand'])\n",
    "\n",
    "hands.sort(key=lambda x: x['sorting_score'])"
   ]
  },
  {
   "cell_type": "code",
   "execution_count": 20,
   "metadata": {},
   "outputs": [],
   "source": [
    "score = []\n",
    "\n",
    "current_rank = 1\n",
    "for i in range(len(hands)):\n",
    "    n = len(hands)-i-1\n",
    "    \n",
    "    if n+1 < len(hands):\n",
    "        if hands[n][\"sorting_score\"] != hands[n+1][\"sorting_score\"]:\n",
    "            current_rank += 1\n",
    "    \n",
    "    hands[n][\"rank\"] = current_rank"
   ]
  },
  {
   "cell_type": "code",
   "execution_count": 21,
   "metadata": {},
   "outputs": [
    {
     "data": {
      "text/plain": [
       "252052080"
      ]
     },
     "execution_count": 21,
     "metadata": {},
     "output_type": "execute_result"
    }
   ],
   "source": [
    "bids_multiplied = []\n",
    "\n",
    "for hand in hands:\n",
    "    bids_multiplied.append(hand['bid']*hand['rank'])\n",
    "\n",
    "sum(bids_multiplied)"
   ]
  },
  {
   "cell_type": "markdown",
   "metadata": {},
   "source": [
    "# part two"
   ]
  },
  {
   "cell_type": "code",
   "execution_count": 46,
   "metadata": {},
   "outputs": [],
   "source": [
    "new_card_order = [\"A\", \"K\", \"Q\", \"T\", \"9\", \"8\", \"7\", \"6\", \"5\", \"4\", \"3\", \"2\", \"J\"]\n",
    "\n",
    "def sorting_score2(rank, hand):\n",
    "    total_score_hand = 0\n",
    "    for i, card in enumerate(list(hand)):\n",
    "        total_score_hand += 100**(len(hand) - i) * new_card_order.index(card)\n",
    "\n",
    "    return 10000000000000*rank + total_score_hand\n",
    "\n",
    "for hand in hands:\n",
    "    h = hand[\"hand\"]\n",
    "    \n",
    "    if \"J\" in h:\n",
    "        lowest_rank = 7\n",
    "        for j_var in new_card_order:\n",
    "            possible_hand = h.replace(\"J\", j_var)\n",
    "            lowest_rank = min(rank_hand(possible_hand), lowest_rank)\n",
    "    else:\n",
    "        lowest_rank = rank_hand(h)\n",
    "\n",
    "    hand['sorting_score'] = sorting_score2(lowest_rank, hand['hand'])\n",
    "\n",
    "hands.sort(key=lambda x: x['sorting_score'])"
   ]
  },
  {
   "cell_type": "code",
   "execution_count": 48,
   "metadata": {},
   "outputs": [],
   "source": [
    "score = []\n",
    "\n",
    "current_rank = 1\n",
    "for i in range(len(hands)):\n",
    "    n = len(hands)-i-1\n",
    "    \n",
    "    if n+1 < len(hands):\n",
    "        if hands[n][\"sorting_score\"] != hands[n+1][\"sorting_score\"]:\n",
    "            current_rank += 1\n",
    "    \n",
    "    hands[n][\"rank\"] = current_rank"
   ]
  },
  {
   "cell_type": "code",
   "execution_count": 50,
   "metadata": {},
   "outputs": [
    {
     "data": {
      "text/plain": [
       "252898370"
      ]
     },
     "execution_count": 50,
     "metadata": {},
     "output_type": "execute_result"
    }
   ],
   "source": [
    "sum([h['bid'] * h['rank'] for h in hands])"
   ]
  },
  {
   "cell_type": "code",
   "execution_count": null,
   "metadata": {},
   "outputs": [],
   "source": []
  }
 ],
 "metadata": {
  "kernelspec": {
   "display_name": "Python 3",
   "language": "python",
   "name": "python3"
  },
  "language_info": {
   "codemirror_mode": {
    "name": "ipython",
    "version": 3
   },
   "file_extension": ".py",
   "mimetype": "text/x-python",
   "name": "python",
   "nbconvert_exporter": "python",
   "pygments_lexer": "ipython3",
   "version": "3.10.8"
  }
 },
 "nbformat": 4,
 "nbformat_minor": 2
}
