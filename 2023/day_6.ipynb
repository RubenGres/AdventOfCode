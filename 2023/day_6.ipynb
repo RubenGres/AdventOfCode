{
 "cells": [
  {
   "cell_type": "code",
   "execution_count": 17,
   "metadata": {},
   "outputs": [],
   "source": [
    "with open(\"inputs/day_6.txt\") as f:\n",
    "    values = f.read().strip()\n",
    "\n",
    "inputs = values.split('\\n')"
   ]
  },
  {
   "cell_type": "code",
   "execution_count": 28,
   "metadata": {},
   "outputs": [],
   "source": [
    "times = inputs[0].split(':',1)[1].split()\n",
    "distances = inputs[1].split(':',1)[1].split()\n",
    "\n",
    "times = [int(''.join(times))]\n",
    "distances = [int(''.join(distances))]"
   ]
  },
  {
   "cell_type": "code",
   "execution_count": 29,
   "metadata": {},
   "outputs": [
    {
     "data": {
      "text/plain": [
       "35961505"
      ]
     },
     "execution_count": 29,
     "metadata": {},
     "output_type": "execute_result"
    }
   ],
   "source": [
    "base_speed = 0 #m/s\n",
    "acc = 1\n",
    "nb_ways_to_beat = []\n",
    "\n",
    "for time, distance in zip(times, distances):\n",
    "    nb_way = 0\n",
    "    for held_t in range(time):\n",
    "        d = (time - held_t) * (held_t * acc)\n",
    "        if d > distance:\n",
    "            nb_way += 1\n",
    "    nb_ways_to_beat.append(nb_way)\n",
    "\n",
    "def mult(list):\n",
    "    mult = 1\n",
    "    for l in list:\n",
    "        mult *= l\n",
    "    return mult \n",
    "\n",
    "mult(nb_ways_to_beat)"
   ]
  },
  {
   "cell_type": "code",
   "execution_count": null,
   "metadata": {},
   "outputs": [],
   "source": []
  }
 ],
 "metadata": {
  "kernelspec": {
   "display_name": "Python 3",
   "language": "python",
   "name": "python3"
  },
  "language_info": {
   "codemirror_mode": {
    "name": "ipython",
    "version": 3
   },
   "file_extension": ".py",
   "mimetype": "text/x-python",
   "name": "python",
   "nbconvert_exporter": "python",
   "pygments_lexer": "ipython3",
   "version": "3.10.8"
  }
 },
 "nbformat": 4,
 "nbformat_minor": 2
}
