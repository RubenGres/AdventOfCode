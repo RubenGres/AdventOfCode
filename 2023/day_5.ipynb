{
 "cells": [
  {
   "cell_type": "code",
   "execution_count": 7,
   "metadata": {},
   "outputs": [],
   "source": [
    "with open(\"inputs/day_5.txt\") as f:\n",
    "    values = f.read().strip()"
   ]
  },
  {
   "cell_type": "code",
   "execution_count": 8,
   "metadata": {},
   "outputs": [],
   "source": [
    "inputs = values.split('\\n')\n",
    "seeds = inputs[0].split(':')[-1].split()\n",
    "seeds = [int(seed) for seed in seeds]\n",
    "\n",
    "maps = values.split(\"\\n\", 1)[-1].strip()\n",
    "maps = maps.split(\"\\n\\n\")"
   ]
  },
  {
   "cell_type": "code",
   "execution_count": 9,
   "metadata": {},
   "outputs": [],
   "source": [
    "source_to_dest = {}\n",
    "\n",
    "for map in maps:\n",
    "    key, values = map.split(\"\\n\", 1)\n",
    "    key_source, key_destination = key.split(\" \")[0].split('-to-')\n",
    "\n",
    "    mapped_values = []\n",
    "    value_array = values.split(\"\\n\")\n",
    "    for value in value_array:\n",
    "        dest, source, range_val = value.strip().split(' ')\n",
    "        mapped_values.append({\"dest\": int(dest), \"source\": int(source), \"range\": int(range_val)})\n",
    "\n",
    "    source_to_dest[(key_source, key_destination)] = mapped_values"
   ]
  },
  {
   "cell_type": "code",
   "execution_count": 4,
   "metadata": {},
   "outputs": [],
   "source": [
    "def get_full_steps(seed):\n",
    "    steps = ['seed', 'soil', 'fertilizer', 'water', 'light', 'temperature', 'humidity', 'location']\n",
    "  \n",
    "    seed_links = [seed]\n",
    "    source = seed\n",
    "\n",
    "    for step_number in range(len(steps)-1):\n",
    "        source_step = steps[step_number]\n",
    "        dest_step = steps[step_number+1]\n",
    "\n",
    "        match_dest = get_step_link(source_step, dest_step, source)\n",
    "\n",
    "        seed_links.append(match_dest)\n",
    "        source = match_dest\n",
    "\n",
    "    return seed_links\n",
    "\n",
    "def get_step_link(source_step, dest_step, source):\n",
    "    match_dest = source\n",
    "    for link in source_to_dest[(source_step,dest_step)]:\n",
    "        if source >= link['source'] and source < link['source'] + link['range']:\n",
    "            delta = source - link['source']\n",
    "            match_dest = link['dest'] + delta\n",
    "\n",
    "    return match_dest"
   ]
  },
  {
   "cell_type": "code",
   "execution_count": 10,
   "metadata": {},
   "outputs": [],
   "source": [
    "all_seed_links = []\n",
    "for seed in seeds:\n",
    "    full_steps = get_full_steps(seed)\n",
    "    all_seed_links.append(full_steps)\n"
   ]
  },
  {
   "cell_type": "code",
   "execution_count": 11,
   "metadata": {},
   "outputs": [
    {
     "data": {
      "text/plain": [
       "35"
      ]
     },
     "execution_count": 11,
     "metadata": {},
     "output_type": "execute_result"
    }
   ],
   "source": [
    "min([step[-1] for step in all_seed_links])"
   ]
  },
  {
   "cell_type": "code",
   "execution_count": 12,
   "metadata": {},
   "outputs": [],
   "source": [
    "seed_range = []\n",
    "for i in range(0, len(seeds), 2):\n",
    "    seed_range.append((seeds[i], seeds[i+1]))"
   ]
  },
  {
   "cell_type": "markdown",
   "metadata": {},
   "source": [
    "(1,7) -> [(2,5), (8,10)]\n",
    "[(2,5), (8,10)] -> [[(2,5), (8,10)], [(2,5), (8,10)]]\n",
    "\n",
    "1 : 2\n",
    "2 : 3\n",
    "3 : 4\n",
    "4 : 5\n",
    "5 : 8\n",
    "6 : 9\n",
    "7 : 10\n",
    "\n",
    "a-to-b:\n",
    "2 1 4  #+1\n",
    "8 5 3  #+3\n",
    "\n"
   ]
  },
  {
   "cell_type": "code",
   "execution_count": 13,
   "metadata": {},
   "outputs": [],
   "source": [
    "source_to_dest[('a', 'b')] = [\n",
    "    {'dest': 2, 'source': 1, 'range': 4},\n",
    "    {'dest': 8, 'source': 5, 'range': 3},\n",
    "    {'dest': 58, 'source': 45, 'range': 13},\n",
    "]\n",
    "\n",
    "#(1,7) -> [(2,5), (8,10)]"
   ]
  },
  {
   "cell_type": "markdown",
   "metadata": {},
   "source": [
    "temperature-to-humidity map:\n",
    "0 69 1 #-69\n",
    "1 0 69 #+1\n",
    "\n",
    "(68, 80) -> [(68, 69), (0, 0), (70, 80)]"
   ]
  },
  {
   "cell_type": "code",
   "execution_count": 26,
   "metadata": {},
   "outputs": [
    {
     "name": "stdout",
     "output_type": "stream",
     "text": [
      "[(68, 80), (69, 80), (68, 69), (0, 0)]\n",
      "\n",
      "test2\n",
      "\n",
      "[(1, 5), (8, 10), (4, 5), (1, 7), (2, 5), (4, 7)]\n"
     ]
    }
   ],
   "source": [
    "def get_step_link(source_step, dest_step, source_min, source_max):\n",
    "\toutputs = []\n",
    "\tsegments = [(source_min, source_max)]\n",
    "\n",
    "\twhile len(segments) > 0:\n",
    "\t\ta, b = segments.pop()\n",
    "\t\t\n",
    "\t\tfor link in source_to_dest[(source_step,dest_step)]:\n",
    "\t\t\tc, d = link['source'], link['source'] + link['range'] - 1\n",
    "\t\t\tdelta = link['dest'] - link['source']\n",
    "\n",
    "\t\t\tpartial_left  = c <= a < d\n",
    "\t\t\tpartial_right = c < b <= d\n",
    "\n",
    "\t\t\tif partial_left and partial_right:\n",
    "\t\t\t\toutputs.append((a + delta, b + delta))\n",
    "\n",
    "\t\t\telif partial_left:\n",
    "\t\t\t\toutputs.append((a + delta, d + delta))\n",
    "\t\t\t\tsegments.append((d, b))\n",
    "\n",
    "\t\t\telif partial_right:\n",
    "\t\t\t\toutputs.append((c + delta, b + delta))\n",
    "\t\t\t\tsegments.append((a, c))\n",
    "\n",
    "\t\t\telif a < c and b > d:\n",
    "\t\t\t\toutputs.append((c + delta, d + delta))\n",
    "\t\t\t\tsegments.append((a, c))\n",
    "\t\t\t\tsegments.append((d, b))\n",
    "\n",
    "\t\t\telse:\n",
    "\t\t\t\toutputs.append((a, b))\n",
    "\n",
    "\treturn list(set(outputs))\n",
    "\n",
    "print(get_step_link('temperature', 'humidity', 68, 80))\n",
    "# (68, 80) -> [(69, 69), (0, 0), (70, 80)]\n",
    "\n",
    "print(\"\\ntest2\\n\")\n",
    "\n",
    "print(get_step_link('a', 'b', 1, 7))\n",
    "#(1,7) -> [(2,5), (8,10)]"
   ]
  },
  {
   "cell_type": "code",
   "execution_count": 100,
   "metadata": {},
   "outputs": [],
   "source": [
    "seed_pairs = []\n",
    "for i in range(0, len(seeds), 2):\n",
    "    seed_pairs.append((seeds[i], seeds[i+1]))"
   ]
  },
  {
   "cell_type": "code",
   "execution_count": 117,
   "metadata": {},
   "outputs": [
    {
     "name": "stdout",
     "output_type": "stream",
     "text": [
      "[(55, 67)] seed to soil [(55, 67)]\n",
      "[(55, 67)] soil to fertilizer [(55, 67)]\n",
      "[(55, 67)] fertilizer to water [(55, 67)]\n",
      "[(55, 67)] water to light [(55, 67)]\n",
      "sale\n",
      "[(55, 67)] light to temperature [(68, 80)]\n",
      "sale\n",
      "[(68, 80)] temperature to humidity [(0, 0)]\n",
      "[(0, 0)] humidity to location [(0, 0)]\n"
     ]
    },
    {
     "data": {
      "text/plain": [
       "[(0, 0)]"
      ]
     },
     "execution_count": 117,
     "metadata": {},
     "output_type": "execute_result"
    }
   ],
   "source": [
    "steps = ['seed', 'soil', 'fertilizer', 'water', 'light', 'temperature', 'humidity', 'location']\n",
    "\n",
    "pair = seed_pairs[1]\n",
    "\n",
    "min_seed = pair[0]\n",
    "max_seed = pair[0] + pair[1] - 1\n",
    "mappings = [(min_seed, max_seed)]\n",
    "\n",
    "for step_number in range(len(steps)-1):\n",
    "    source_step = steps[step_number]\n",
    "    dest_step = steps[step_number+1]\n",
    "\n",
    "    new_mappings = []\n",
    "    for min_source, max_source in mappings:\n",
    "        new_mappings.extend(get_step_link(source_step, dest_step, min_source, max_source))\n",
    "\n",
    "    print(mappings, source_step, 'to', dest_step, new_mappings)\n",
    "\n",
    "    mappings = new_mappings\n",
    "\n",
    "mappings"
   ]
  },
  {
   "cell_type": "code",
   "execution_count": 103,
   "metadata": {},
   "outputs": [
    {
     "name": "stdout",
     "output_type": "stream",
     "text": [
      "0\n"
     ]
    },
    {
     "data": {
      "text/plain": [
       "13"
      ]
     },
     "execution_count": 103,
     "metadata": {},
     "output_type": "execute_result"
    }
   ],
   "source": [
    "somme = sum([max - min for min, max in mappings])\n",
    "print(somme)\n",
    "\n",
    "pair[1]"
   ]
  },
  {
   "cell_type": "code",
   "execution_count": 33,
   "metadata": {},
   "outputs": [
    {
     "name": "stdout",
     "output_type": "stream",
     "text": [
      "soil\n",
      "fertilizer\n",
      "water\n",
      "light\n",
      "temperature\n",
      "humidity\n",
      "location\n"
     ]
    }
   ],
   "source": [
    "steps = ['seed', 'soil', 'fertilizer', 'water', 'light', 'temperature', 'humidity', 'location']\n",
    "\n",
    "#get_step_link(source_step, dest_step, source)\n",
    "\n",
    "min_location = 9999999\n",
    "for seed_min, seed_delta in seed_range:\n",
    "    seed_max = seed_min + seed_delta - 1\n",
    "\n",
    "    source_min = seed_min\n",
    "    source_max = seed_max\n",
    "\n",
    "    for step_number in range(len(steps)-1):\n",
    "        source_step = steps[step_number]\n",
    "        dest_step = steps[step_number+1]\n",
    "\n",
    "        #source-to-dest\n",
    "        source_min = get_step_link(source_step, dest_step, source_min)\n",
    "        source_max = get_step_link(source_step, dest_step, source_max)\n",
    "\n",
    "    min_location = min([source_min,source_max])\n",
    "\n",
    "    break"
   ]
  },
  {
   "cell_type": "code",
   "execution_count": 30,
   "metadata": {},
   "outputs": [
    {
     "data": {
      "text/plain": [
       "2304125650"
      ]
     },
     "execution_count": 30,
     "metadata": {},
     "output_type": "execute_result"
    }
   ],
   "source": [
    "min_location"
   ]
  },
  {
   "cell_type": "code",
   "execution_count": 14,
   "metadata": {},
   "outputs": [
    {
     "ename": "KeyboardInterrupt",
     "evalue": "",
     "output_type": "error",
     "traceback": [
      "\u001b[0;31m---------------------------------------------------------------------------\u001b[0m",
      "\u001b[0;31mKeyboardInterrupt\u001b[0m                         Traceback (most recent call last)",
      "\u001b[1;32m/workspaces/AdventOfCode/2023/day_5.ipynb Cellule 7\u001b[0m line \u001b[0;36m1\n\u001b[1;32m      <a href='vscode-notebook-cell://codespaces%2Borganic-space-halibut-xrr6674w6gr3vr99/workspaces/AdventOfCode/2023/day_5.ipynb#X16sdnNjb2RlLXJlbW90ZQ%3D%3D?line=7'>8</a>\u001b[0m \u001b[39mfor\u001b[39;00m seed_first, seed_range \u001b[39min\u001b[39;00m new_seeds:\n\u001b[1;32m      <a href='vscode-notebook-cell://codespaces%2Borganic-space-halibut-xrr6674w6gr3vr99/workspaces/AdventOfCode/2023/day_5.ipynb#X16sdnNjb2RlLXJlbW90ZQ%3D%3D?line=8'>9</a>\u001b[0m     \u001b[39mfor\u001b[39;00m seed \u001b[39min\u001b[39;00m \u001b[39mrange\u001b[39m(seed_first, seed_first\u001b[39m+\u001b[39mseed_range):\n\u001b[0;32m---> <a href='vscode-notebook-cell://codespaces%2Borganic-space-halibut-xrr6674w6gr3vr99/workspaces/AdventOfCode/2023/day_5.ipynb#X16sdnNjb2RlLXJlbW90ZQ%3D%3D?line=9'>10</a>\u001b[0m         full_steps \u001b[39m=\u001b[39m get_full_steps(seed)\n\u001b[1;32m     <a href='vscode-notebook-cell://codespaces%2Borganic-space-halibut-xrr6674w6gr3vr99/workspaces/AdventOfCode/2023/day_5.ipynb#X16sdnNjb2RlLXJlbW90ZQ%3D%3D?line=10'>11</a>\u001b[0m         current_min_location \u001b[39m=\u001b[39m \u001b[39mmin\u001b[39m([current_min_location, full_steps[\u001b[39m-\u001b[39m\u001b[39m1\u001b[39m]])\n",
      "\u001b[1;32m/workspaces/AdventOfCode/2023/day_5.ipynb Cellule 7\u001b[0m line \u001b[0;36m1\n\u001b[1;32m     <a href='vscode-notebook-cell://codespaces%2Borganic-space-halibut-xrr6674w6gr3vr99/workspaces/AdventOfCode/2023/day_5.ipynb#X16sdnNjb2RlLXJlbW90ZQ%3D%3D?line=10'>11</a>\u001b[0m match_dest \u001b[39m=\u001b[39m source\n\u001b[1;32m     <a href='vscode-notebook-cell://codespaces%2Borganic-space-halibut-xrr6674w6gr3vr99/workspaces/AdventOfCode/2023/day_5.ipynb#X16sdnNjb2RlLXJlbW90ZQ%3D%3D?line=11'>12</a>\u001b[0m \u001b[39mfor\u001b[39;00m link \u001b[39min\u001b[39;00m source_to_dest[(source_step,dest_step)]:\n\u001b[0;32m---> <a href='vscode-notebook-cell://codespaces%2Borganic-space-halibut-xrr6674w6gr3vr99/workspaces/AdventOfCode/2023/day_5.ipynb#X16sdnNjb2RlLXJlbW90ZQ%3D%3D?line=12'>13</a>\u001b[0m     \u001b[39mif\u001b[39;00m source \u001b[39m>\u001b[39m\u001b[39m=\u001b[39m link[\u001b[39m'\u001b[39m\u001b[39msource\u001b[39m\u001b[39m'\u001b[39m] \u001b[39mand\u001b[39;00m source \u001b[39m<\u001b[39m link[\u001b[39m'\u001b[39m\u001b[39msource\u001b[39m\u001b[39m'\u001b[39m] \u001b[39m+\u001b[39m link[\u001b[39m'\u001b[39m\u001b[39mrange\u001b[39m\u001b[39m'\u001b[39m]:\n\u001b[1;32m     <a href='vscode-notebook-cell://codespaces%2Borganic-space-halibut-xrr6674w6gr3vr99/workspaces/AdventOfCode/2023/day_5.ipynb#X16sdnNjb2RlLXJlbW90ZQ%3D%3D?line=13'>14</a>\u001b[0m         delta \u001b[39m=\u001b[39m source \u001b[39m-\u001b[39m link[\u001b[39m'\u001b[39m\u001b[39msource\u001b[39m\u001b[39m'\u001b[39m]\n\u001b[1;32m     <a href='vscode-notebook-cell://codespaces%2Borganic-space-halibut-xrr6674w6gr3vr99/workspaces/AdventOfCode/2023/day_5.ipynb#X16sdnNjb2RlLXJlbW90ZQ%3D%3D?line=14'>15</a>\u001b[0m         match_dest \u001b[39m=\u001b[39m link[\u001b[39m'\u001b[39m\u001b[39mdest\u001b[39m\u001b[39m'\u001b[39m] \u001b[39m+\u001b[39m delta\n",
      "\u001b[0;31mKeyboardInterrupt\u001b[0m: "
     ]
    }
   ],
   "source": [
    "new_seeds = []\n",
    "for i in range(0, len(seeds), 2):\n",
    "    new_seeds.append((seeds[i], seeds[i+1]))\n",
    "\n",
    "current_min_location = 99999999999999999\n",
    "\n",
    "step = 0\n",
    "for seed_first, seed_range in new_seeds:\n",
    "    for seed in range(seed_first, seed_first+seed_range):\n",
    "        full_steps = get_full_steps(seed)\n",
    "        current_min_location = min([current_min_location, full_steps[-1]])"
   ]
  },
  {
   "cell_type": "code",
   "execution_count": null,
   "metadata": {},
   "outputs": [],
   "source": []
  }
 ],
 "metadata": {
  "kernelspec": {
   "display_name": "Python 3",
   "language": "python",
   "name": "python3"
  },
  "language_info": {
   "codemirror_mode": {
    "name": "ipython",
    "version": 3
   },
   "file_extension": ".py",
   "mimetype": "text/x-python",
   "name": "python",
   "nbconvert_exporter": "python",
   "pygments_lexer": "ipython3",
   "version": "3.10.8"
  }
 },
 "nbformat": 4,
 "nbformat_minor": 2
}
