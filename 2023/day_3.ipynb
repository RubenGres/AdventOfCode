{
 "cells": [
  {
   "cell_type": "code",
   "execution_count": 1,
   "metadata": {},
   "outputs": [
    {
     "ename": "FileNotFoundError",
     "evalue": "[Errno 2] No such file or directory: 'inputs/day_3.txt'",
     "output_type": "error",
     "traceback": [
      "\u001b[0;31m---------------------------------------------------------------------------\u001b[0m",
      "\u001b[0;31mFileNotFoundError\u001b[0m                         Traceback (most recent call last)",
      "\u001b[1;32m/workspaces/advent of code/day_3.ipynb Cellule 1\u001b[0m line \u001b[0;36m1\n\u001b[0;32m----> <a href='vscode-notebook-cell://codespaces%2Borganic-space-halibut-xrr6674w6gr3vr99/workspaces/advent%20of%20code/day_3.ipynb#W0sdnNjb2RlLXJlbW90ZQ%3D%3D?line=0'>1</a>\u001b[0m \u001b[39mwith\u001b[39;00m \u001b[39mopen\u001b[39;49m(\u001b[39m\"\u001b[39;49m\u001b[39minputs/day_3.txt\u001b[39;49m\u001b[39m\"\u001b[39;49m) \u001b[39mas\u001b[39;00m f:\n\u001b[1;32m      <a href='vscode-notebook-cell://codespaces%2Borganic-space-halibut-xrr6674w6gr3vr99/workspaces/advent%20of%20code/day_3.ipynb#W0sdnNjb2RlLXJlbW90ZQ%3D%3D?line=1'>2</a>\u001b[0m     values \u001b[39m=\u001b[39m f\u001b[39m.\u001b[39mread()\u001b[39m.\u001b[39mstrip()\n\u001b[1;32m      <a href='vscode-notebook-cell://codespaces%2Borganic-space-halibut-xrr6674w6gr3vr99/workspaces/advent%20of%20code/day_3.ipynb#W0sdnNjb2RlLXJlbW90ZQ%3D%3D?line=3'>4</a>\u001b[0m inputs \u001b[39m=\u001b[39m values\u001b[39m.\u001b[39msplit(\u001b[39m'\u001b[39m\u001b[39m\\n\u001b[39;00m\u001b[39m'\u001b[39m)\n",
      "File \u001b[0;32m~/.local/lib/python3.10/site-packages/IPython/core/interactiveshell.py:308\u001b[0m, in \u001b[0;36m_modified_open\u001b[0;34m(file, *args, **kwargs)\u001b[0m\n\u001b[1;32m    301\u001b[0m \u001b[39mif\u001b[39;00m file \u001b[39min\u001b[39;00m {\u001b[39m0\u001b[39m, \u001b[39m1\u001b[39m, \u001b[39m2\u001b[39m}:\n\u001b[1;32m    302\u001b[0m     \u001b[39mraise\u001b[39;00m \u001b[39mValueError\u001b[39;00m(\n\u001b[1;32m    303\u001b[0m         \u001b[39mf\u001b[39m\u001b[39m\"\u001b[39m\u001b[39mIPython won\u001b[39m\u001b[39m'\u001b[39m\u001b[39mt let you open fd=\u001b[39m\u001b[39m{\u001b[39;00mfile\u001b[39m}\u001b[39;00m\u001b[39m by default \u001b[39m\u001b[39m\"\u001b[39m\n\u001b[1;32m    304\u001b[0m         \u001b[39m\"\u001b[39m\u001b[39mas it is likely to crash IPython. If you know what you are doing, \u001b[39m\u001b[39m\"\u001b[39m\n\u001b[1;32m    305\u001b[0m         \u001b[39m\"\u001b[39m\u001b[39myou can use builtins\u001b[39m\u001b[39m'\u001b[39m\u001b[39m open.\u001b[39m\u001b[39m\"\u001b[39m\n\u001b[1;32m    306\u001b[0m     )\n\u001b[0;32m--> 308\u001b[0m \u001b[39mreturn\u001b[39;00m io_open(file, \u001b[39m*\u001b[39;49margs, \u001b[39m*\u001b[39;49m\u001b[39m*\u001b[39;49mkwargs)\n",
      "\u001b[0;31mFileNotFoundError\u001b[0m: [Errno 2] No such file or directory: 'inputs/day_3.txt'"
     ]
    }
   ],
   "source": [
    "with open(\"inputs/day_3.txt\") as f:\n",
    "    values = f.read().strip()\n",
    "\n",
    "inputs = values.split('\\n')"
   ]
  },
  {
   "cell_type": "code",
   "execution_count": 130,
   "metadata": {},
   "outputs": [],
   "source": [
    "symbols = set(values) - set('1234567890.\\n')"
   ]
  },
  {
   "cell_type": "code",
   "execution_count": 131,
   "metadata": {},
   "outputs": [],
   "source": [
    "parts_numbers = []\n",
    "\n",
    "positions = []\n",
    "\n",
    "def get_parts_around(x,y):\n",
    "    pos = []\n",
    "    for i in [x-1, x, x+1]:\n",
    "        for j in [y-1, y, y+1]:\n",
    "            if inputs[j][i].isnumeric():\n",
    "                pos.append((j,i))\n",
    "    return pos\n",
    "\n",
    "for y, line in enumerate(inputs):\n",
    "    for x, character in enumerate(line):\n",
    "        if character in symbols:\n",
    "            positions.extend(get_parts_around(x,y))"
   ]
  },
  {
   "cell_type": "code",
   "execution_count": 132,
   "metadata": {},
   "outputs": [],
   "source": [
    "def get_number(position):\n",
    "    i, j = position\n",
    "    \n",
    "    start_number = j\n",
    "    while start_number >= 0 and start_number < 140 and inputs[i][start_number].isnumeric():\n",
    "        start_number -= 1\n",
    "    start_number += 1 \n",
    "\n",
    "    end_number = j\n",
    "    while end_number >= 0 and end_number < 140 and inputs[i][end_number].isnumeric():\n",
    "        end_number += 1\n",
    "\n",
    "    return i, start_number, end_number"
   ]
  },
  {
   "cell_type": "code",
   "execution_count": 133,
   "metadata": {},
   "outputs": [],
   "source": [
    "parts = list(set([get_number(position) for position in positions]))"
   ]
  },
  {
   "cell_type": "code",
   "execution_count": 134,
   "metadata": {},
   "outputs": [],
   "source": [
    "part_numbers = []\n",
    "\n",
    "for part in parts:\n",
    "    i, start, end = part\n",
    "    part_numbers.append(int(inputs[i][start:end]))"
   ]
  },
  {
   "cell_type": "code",
   "execution_count": 135,
   "metadata": {},
   "outputs": [
    {
     "data": {
      "text/plain": [
       "535078"
      ]
     },
     "execution_count": 135,
     "metadata": {},
     "output_type": "execute_result"
    }
   ],
   "source": [
    "sum(part_numbers)"
   ]
  },
  {
   "cell_type": "markdown",
   "metadata": {},
   "source": [
    "# Part two"
   ]
  },
  {
   "cell_type": "code",
   "execution_count": 140,
   "metadata": {},
   "outputs": [],
   "source": [
    "gears = \"*\"\n",
    "\n",
    "gear_ratios = []\n",
    "\n",
    "for y, line in enumerate(inputs):\n",
    "    for x, character in enumerate(line):\n",
    "        if character in symbols:\n",
    "            parts_pos = get_parts_around(x,y)\n",
    "            parts_pos = list(set([get_number(position) for position in parts_pos]))\n",
    "\n",
    "            if len(parts_pos) == 2:\n",
    "                i, start, end = parts_pos[0]\n",
    "                gear_ratio = int(inputs[i][start:end])\n",
    "\n",
    "                i, start, end = parts_pos[1]\n",
    "                gear_ratio *= int(inputs[i][start:end])\n",
    "\n",
    "                gear_ratios.append(gear_ratio)"
   ]
  },
  {
   "cell_type": "code",
   "execution_count": 141,
   "metadata": {},
   "outputs": [
    {
     "data": {
      "text/plain": [
       "75312571"
      ]
     },
     "execution_count": 141,
     "metadata": {},
     "output_type": "execute_result"
    }
   ],
   "source": [
    "sum(gear_ratios)"
   ]
  }
 ],
 "metadata": {
  "kernelspec": {
   "display_name": "Python 3",
   "language": "python",
   "name": "python3"
  },
  "language_info": {
   "codemirror_mode": {
    "name": "ipython",
    "version": 3
   },
   "file_extension": ".py",
   "mimetype": "text/x-python",
   "name": "python",
   "nbconvert_exporter": "python",
   "pygments_lexer": "ipython3",
   "version": "3.10.8"
  }
 },
 "nbformat": 4,
 "nbformat_minor": 2
}
