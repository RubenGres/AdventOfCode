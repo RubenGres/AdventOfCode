{
 "cells": [
  {
   "cell_type": "code",
   "execution_count": 57,
   "metadata": {},
   "outputs": [],
   "source": [
    "with open(\"inputs/day_9.txt\") as f:\n",
    "    values = f.read().strip()\n",
    "\n",
    "inputs = values.split('\\n')"
   ]
  },
  {
   "cell_type": "code",
   "execution_count": 61,
   "metadata": {},
   "outputs": [],
   "source": [
    "sequences = [[int(j) for j in i.split()] for i in inputs]\n",
    "\n",
    "def next_line(sequence):\n",
    "    diff = []\n",
    "    for i in range(1,len(sequence)):\n",
    "        diff.append(sequence[i] - sequence[i-1])\n",
    "    return diff\n",
    "\n",
    "def extrapolate(sequence_n=None, sequence_n_minus_one=None):\n",
    "    a = sequence_n_minus_one[-1] + sequence_n[-1]\n",
    "    sequence_n_plus_one = sequence_n + [a]\n",
    "    print(sequence_n_plus_one)\n",
    "    return sequence_n_plus_one\n",
    "\n",
    "def recur_diff(sequence):\n",
    "    if all(v == 0 for v in sequence):\n",
    "        return sequence[-1]\n",
    "    \n",
    "    return recur_diff(next_line(sequence)) + sequence[-1]"
   ]
  },
  {
   "cell_type": "code",
   "execution_count": 62,
   "metadata": {},
   "outputs": [
    {
     "data": {
      "text/plain": [
       "966"
      ]
     },
     "execution_count": 62,
     "metadata": {},
     "output_type": "execute_result"
    }
   ],
   "source": [
    "def recur_diff2(sequence):\n",
    "    if all(v == 0 for v in sequence):\n",
    "        return sequence[0]\n",
    "    \n",
    "    return sequence[0] - recur_diff2(next_line(sequence))\n",
    "\n",
    "extrapolated = list(recur_diff2(seq) for seq in sequences)\n",
    "sum(extrapolated)"
   ]
  },
  {
   "cell_type": "code",
   "execution_count": 59,
   "metadata": {},
   "outputs": [
    {
     "data": {
      "text/plain": [
       "1916822650"
      ]
     },
     "execution_count": 59,
     "metadata": {},
     "output_type": "execute_result"
    }
   ],
   "source": []
  }
 ],
 "metadata": {
  "kernelspec": {
   "display_name": "Python 3",
   "language": "python",
   "name": "python3"
  },
  "language_info": {
   "codemirror_mode": {
    "name": "ipython",
    "version": 3
   },
   "file_extension": ".py",
   "mimetype": "text/x-python",
   "name": "python",
   "nbconvert_exporter": "python",
   "pygments_lexer": "ipython3",
   "version": "3.10.8"
  }
 },
 "nbformat": 4,
 "nbformat_minor": 2
}
