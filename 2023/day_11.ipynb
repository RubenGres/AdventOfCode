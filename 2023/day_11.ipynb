{
 "cells": [
  {
   "cell_type": "code",
   "execution_count": 1,
   "metadata": {},
   "outputs": [],
   "source": [
    "with open(\"inputs/day_11.txt\") as f:\n",
    "    values = f.read().strip()"
   ]
  },
  {
   "cell_type": "code",
   "execution_count": 2,
   "metadata": {},
   "outputs": [],
   "source": [
    "coords_galaxies = []\n",
    "\n",
    "for y, line in enumerate(values.split(\"\\n\")):\n",
    "    for x, elem in enumerate(line):\n",
    "        if elem == \"#\":\n",
    "            coords_galaxies.append((x,y))"
   ]
  },
  {
   "cell_type": "code",
   "execution_count": 9,
   "metadata": {},
   "outputs": [],
   "source": [
    "lines_to_extend = []\n",
    "cols_to_extend = []\n",
    "\n",
    "lines = values.split(\"\\n\")\n",
    "\n",
    "for i in range(0, len(lines[0])):\n",
    "    if i not in [g[0] for g in coords_galaxies]:\n",
    "        cols_to_extend.append(i)\n",
    "\n",
    "for i in range(0, len(lines)):\n",
    "    ys = [g[1] for g in coords_galaxies]\n",
    "    if i not in ys:\n",
    "        lines_to_extend.append(i)"
   ]
  },
  {
   "cell_type": "code",
   "execution_count": 10,
   "metadata": {},
   "outputs": [],
   "source": [
    "new_universe = values.split(\"\\n\")\n",
    "\n",
    "for delta, n in enumerate(lines_to_extend):\n",
    "    n = n + delta\n",
    "    new_universe = new_universe[:n] + [new_universe[n]] + new_universe[n:]\n",
    "\n",
    "new_universe = list(zip(*new_universe))\n",
    "for delta, n in enumerate(cols_to_extend):\n",
    "    n = n + delta\n",
    "    new_universe = new_universe[:n] + [new_universe[n]] + new_universe[n:]\n",
    "\n",
    "new_universe = list(zip(*new_universe))"
   ]
  },
  {
   "cell_type": "code",
   "execution_count": 11,
   "metadata": {},
   "outputs": [],
   "source": [
    "coords_galaxies_new = []\n",
    "\n",
    "for y, line in enumerate(new_universe):\n",
    "    for x, elem in enumerate(line):\n",
    "        if elem == \"#\":\n",
    "            coords_galaxies_new.append((x,y))"
   ]
  },
  {
   "cell_type": "code",
   "execution_count": 28,
   "metadata": {},
   "outputs": [],
   "source": [
    "import itertools\n",
    "\n",
    "pairs = list(itertools.combinations(coords_galaxies_new, 2))"
   ]
  },
  {
   "cell_type": "code",
   "execution_count": 29,
   "metadata": {},
   "outputs": [],
   "source": [
    "dists = [abs(g1[0] - g2[0]) + abs(g1[1] - g2[1]) for g1, g2 in pairs]"
   ]
  },
  {
   "cell_type": "code",
   "execution_count": 30,
   "metadata": {},
   "outputs": [
    {
     "data": {
      "text/plain": [
       "9609130"
      ]
     },
     "execution_count": 30,
     "metadata": {},
     "output_type": "execute_result"
    }
   ],
   "source": [
    "sum(dists)"
   ]
  },
  {
   "cell_type": "markdown",
   "metadata": {},
   "source": [
    "# part 2"
   ]
  },
  {
   "cell_type": "code",
   "execution_count": 41,
   "metadata": {},
   "outputs": [
    {
     "data": {
      "text/plain": [
       "702152204842.0"
      ]
     },
     "execution_count": 41,
     "metadata": {},
     "output_type": "execute_result"
    }
   ],
   "source": [
    "import itertools\n",
    "\n",
    "lines_to_extend\n",
    "cols_to_extend\n",
    "coords_galaxies\n",
    "\n",
    "def dist(g1, g2, dilatation=1e6):\n",
    "    base_dist = abs(g1[0] - g2[0]) + abs(g1[1] - g2[1])\n",
    "\n",
    "    for col in cols_to_extend:\n",
    "        if min(g2[0], g1[0]) < col < max(g2[0], g1[0]):\n",
    "            base_dist += dilatation\n",
    "\n",
    "    for line in lines_to_extend:\n",
    "        if min(g2[1], g1[1]) < line < max(g2[1], g1[1]):\n",
    "            base_dist += dilatation\n",
    "\n",
    "    return base_dist\n",
    "\n",
    "\n",
    "pairs = list(itertools.combinations(coords_galaxies, 2))\n",
    "\n",
    "dists = [dist(g1, g2, 1e6-1) for g1, g2 in pairs]\n",
    "\n",
    "sum(dists)"
   ]
  }
 ],
 "metadata": {
  "kernelspec": {
   "display_name": "Python 3",
   "language": "python",
   "name": "python3"
  },
  "language_info": {
   "codemirror_mode": {
    "name": "ipython",
    "version": 3
   },
   "file_extension": ".py",
   "mimetype": "text/x-python",
   "name": "python",
   "nbconvert_exporter": "python",
   "pygments_lexer": "ipython3",
   "version": "3.10.8"
  }
 },
 "nbformat": 4,
 "nbformat_minor": 2
}
