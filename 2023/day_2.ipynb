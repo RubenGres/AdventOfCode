{
 "cells": [
  {
   "cell_type": "code",
   "execution_count": 1,
   "metadata": {},
   "outputs": [
    {
     "ename": "FileNotFoundError",
     "evalue": "[Errno 2] No such file or directory: 'inputs/day_2.txt'",
     "output_type": "error",
     "traceback": [
      "\u001b[0;31m---------------------------------------------------------------------------\u001b[0m",
      "\u001b[0;31mFileNotFoundError\u001b[0m                         Traceback (most recent call last)",
      "\u001b[1;32m/workspaces/advent of code/day_2.ipynb Cellule 1\u001b[0m line \u001b[0;36m1\n\u001b[0;32m----> <a href='vscode-notebook-cell://codespaces%2Borganic-space-halibut-xrr6674w6gr3vr99/workspaces/advent%20of%20code/day_2.ipynb#W0sdnNjb2RlLXJlbW90ZQ%3D%3D?line=0'>1</a>\u001b[0m \u001b[39mwith\u001b[39;00m \u001b[39mopen\u001b[39;49m(\u001b[39m\"\u001b[39;49m\u001b[39minputs/day_2.txt\u001b[39;49m\u001b[39m\"\u001b[39;49m) \u001b[39mas\u001b[39;00m f:\n\u001b[1;32m      <a href='vscode-notebook-cell://codespaces%2Borganic-space-halibut-xrr6674w6gr3vr99/workspaces/advent%20of%20code/day_2.ipynb#W0sdnNjb2RlLXJlbW90ZQ%3D%3D?line=1'>2</a>\u001b[0m     values \u001b[39m=\u001b[39m f\u001b[39m.\u001b[39mread()\n\u001b[1;32m      <a href='vscode-notebook-cell://codespaces%2Borganic-space-halibut-xrr6674w6gr3vr99/workspaces/advent%20of%20code/day_2.ipynb#W0sdnNjb2RlLXJlbW90ZQ%3D%3D?line=3'>4</a>\u001b[0m inputs \u001b[39m=\u001b[39m values\u001b[39m.\u001b[39msplit(\u001b[39m'\u001b[39m\u001b[39m\\n\u001b[39;00m\u001b[39m'\u001b[39m)\n",
      "File \u001b[0;32m~/.local/lib/python3.10/site-packages/IPython/core/interactiveshell.py:308\u001b[0m, in \u001b[0;36m_modified_open\u001b[0;34m(file, *args, **kwargs)\u001b[0m\n\u001b[1;32m    301\u001b[0m \u001b[39mif\u001b[39;00m file \u001b[39min\u001b[39;00m {\u001b[39m0\u001b[39m, \u001b[39m1\u001b[39m, \u001b[39m2\u001b[39m}:\n\u001b[1;32m    302\u001b[0m     \u001b[39mraise\u001b[39;00m \u001b[39mValueError\u001b[39;00m(\n\u001b[1;32m    303\u001b[0m         \u001b[39mf\u001b[39m\u001b[39m\"\u001b[39m\u001b[39mIPython won\u001b[39m\u001b[39m'\u001b[39m\u001b[39mt let you open fd=\u001b[39m\u001b[39m{\u001b[39;00mfile\u001b[39m}\u001b[39;00m\u001b[39m by default \u001b[39m\u001b[39m\"\u001b[39m\n\u001b[1;32m    304\u001b[0m         \u001b[39m\"\u001b[39m\u001b[39mas it is likely to crash IPython. If you know what you are doing, \u001b[39m\u001b[39m\"\u001b[39m\n\u001b[1;32m    305\u001b[0m         \u001b[39m\"\u001b[39m\u001b[39myou can use builtins\u001b[39m\u001b[39m'\u001b[39m\u001b[39m open.\u001b[39m\u001b[39m\"\u001b[39m\n\u001b[1;32m    306\u001b[0m     )\n\u001b[0;32m--> 308\u001b[0m \u001b[39mreturn\u001b[39;00m io_open(file, \u001b[39m*\u001b[39;49margs, \u001b[39m*\u001b[39;49m\u001b[39m*\u001b[39;49mkwargs)\n",
      "\u001b[0;31mFileNotFoundError\u001b[0m: [Errno 2] No such file or directory: 'inputs/day_2.txt'"
     ]
    }
   ],
   "source": [
    "with open(\"inputs/day_2.txt\") as f:\n",
    "    values = f.read()\n",
    "\n",
    "inputs = values.split('\\n')"
   ]
  },
  {
   "cell_type": "code",
   "execution_count": 81,
   "metadata": {},
   "outputs": [],
   "source": [
    "import re\n",
    "\n",
    "def parse_line(line):\n",
    "    game_number, draws = line.split(\": \")\n",
    "    game_number = game_number.split(' ')[-1]\n",
    "    \n",
    "    draws = draws.split('; ')\n",
    "\n",
    "    draw_dict = []\n",
    "    for draw in draws:\n",
    "        current_draw = {}\n",
    "\n",
    "        colors = draw.split(\", \")\n",
    "        for color in colors:\n",
    "            number, value = color.split(' ')\n",
    "            current_draw[value] = int(number)\n",
    "        draw_dict.append(current_draw)\n",
    "\n",
    "    return game_number, draw_dict\n",
    "\n",
    "games = {}\n",
    "for line in inputs:\n",
    "    game_number, draw_dict = parse_line(line)\n",
    "    games[game_number] = draw_dict"
   ]
  },
  {
   "cell_type": "markdown",
   "metadata": {},
   "source": [
    "The Elf would first like to know which games would have been possible if the bag contained only 12 red cubes, 13 green cubes, and 14 blue cubes?"
   ]
  },
  {
   "cell_type": "code",
   "execution_count": 82,
   "metadata": {},
   "outputs": [
    {
     "data": {
      "text/plain": [
       "True"
      ]
     },
     "execution_count": 82,
     "metadata": {},
     "output_type": "execute_result"
    }
   ],
   "source": [
    "def draw_is_possible(bag, draw):\n",
    "    for color in bag.keys():\n",
    "        if color in draw.keys():\n",
    "            # drew more than in bag\n",
    "            if bag[color] < draw[color]:\n",
    "                return False\n",
    "\n",
    "    return True\n",
    "\n",
    "bag = {\"red\": 12, \"green\":13, \"blue\": 14}\n",
    "draw_is_possible(bag, games[\"1\"][0])"
   ]
  },
  {
   "cell_type": "code",
   "execution_count": 83,
   "metadata": {},
   "outputs": [],
   "source": [
    "games_possible = []\n",
    "bag = {\"red\": 12, \"green\":13, \"blue\": 14}\n",
    "\n",
    "for game_key in games.keys():\n",
    "    game = games[game_key]\n",
    "\n",
    "    game_is_possible = True;\n",
    "    for draw in game:\n",
    "        game_is_possible &= draw_is_possible(bag, draw)\n",
    "\n",
    "    if game_is_possible:\n",
    "        games_possible.append(int(game_key))"
   ]
  },
  {
   "cell_type": "code",
   "execution_count": 84,
   "metadata": {},
   "outputs": [
    {
     "data": {
      "text/plain": [
       "52"
      ]
     },
     "execution_count": 84,
     "metadata": {},
     "output_type": "execute_result"
    }
   ],
   "source": [
    "len(games_possible)"
   ]
  },
  {
   "cell_type": "code",
   "execution_count": 85,
   "metadata": {},
   "outputs": [
    {
     "data": {
      "text/plain": [
       "2447"
      ]
     },
     "execution_count": 85,
     "metadata": {},
     "output_type": "execute_result"
    }
   ],
   "source": [
    "sum(games_possible)"
   ]
  },
  {
   "cell_type": "markdown",
   "metadata": {},
   "source": [
    "# Part two"
   ]
  },
  {
   "cell_type": "code",
   "execution_count": 111,
   "metadata": {},
   "outputs": [],
   "source": [
    "def get_min_color(draws):\n",
    "    min_colors = {}\n",
    "\n",
    "    for draw in draws:\n",
    "        for color in [\"green\", \"blue\", \"red\"]:\n",
    "            if color in draw:\n",
    "                if color not in min_colors:\n",
    "                    min_colors[color] = draw[color]\n",
    "                elif draw[color] > min_colors[color]:\n",
    "                    min_colors[color] = draw[color]\n",
    "\n",
    "    return min_colors\n",
    "\n",
    "games_min_colors = {}\n",
    "for game_key in games:\n",
    "    game = games[game_key]\n",
    "    games_min_colors[game_key] = get_min_color(game)"
   ]
  },
  {
   "cell_type": "code",
   "execution_count": 112,
   "metadata": {},
   "outputs": [],
   "source": [
    "powers = []\n",
    "\n",
    "for game_key in games_min_colors:\n",
    "    g = games_min_colors[game_key]\n",
    "    powers.append(g['green'] * g['blue'] * g['red'])"
   ]
  },
  {
   "cell_type": "code",
   "execution_count": 114,
   "metadata": {},
   "outputs": [
    {
     "data": {
      "text/plain": [
       "56322"
      ]
     },
     "execution_count": 114,
     "metadata": {},
     "output_type": "execute_result"
    }
   ],
   "source": [
    "sum(powers)"
   ]
  }
 ],
 "metadata": {
  "kernelspec": {
   "display_name": "Python 3",
   "language": "python",
   "name": "python3"
  },
  "language_info": {
   "codemirror_mode": {
    "name": "ipython",
    "version": 3
   },
   "file_extension": ".py",
   "mimetype": "text/x-python",
   "name": "python",
   "nbconvert_exporter": "python",
   "pygments_lexer": "ipython3",
   "version": "3.10.8"
  }
 },
 "nbformat": 4,
 "nbformat_minor": 2
}
